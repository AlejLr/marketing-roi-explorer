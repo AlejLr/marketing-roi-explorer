{
 "cells": [
  {
   "cell_type": "code",
   "execution_count": 1,
   "id": "2f28480e",
   "metadata": {},
   "outputs": [],
   "source": [
    "import numpy as np\n",
    "import pandas as pd\n",
    "import matplotlib.pyplot as plt"
   ]
  },
  {
   "cell_type": "code",
   "execution_count": 23,
   "id": "c809802d",
   "metadata": {},
   "outputs": [
    {
     "name": "stdout",
     "output_type": "stream",
     "text": [
      "Accepted Campaign 1:  133\n",
      "Accepted Campaign 2:  26\n",
      "Accepted Campaign 3:  151\n",
      "Accepted Campaign 4:  155\n",
      "Accepted Campaign 5:  146\n",
      "Accepted Overall Campaign:  301\n",
      "Not Accepted Campaign:  1595\n"
     ]
    }
   ],
   "source": [
    "df = pd.read_csv(\"../data/ifood_df.csv\")\n",
    "\n",
    "accepted_cmp1 = df[df[\"AcceptedCmp1\"] == 1].value_counts()\n",
    "accepted_cmp2 = df[df[\"AcceptedCmp2\"] == 1].value_counts()\n",
    "accepted_cmp3 = df[df[\"AcceptedCmp3\"] == 1].value_counts()\n",
    "accepted_cmp4 = df[df[\"AcceptedCmp4\"] == 1].value_counts()\n",
    "accepted_cmp5 = df[df[\"AcceptedCmp5\"] == 1].value_counts()\n",
    "\n",
    "accepted_overall_cmp = df[df[\"AcceptedCmpOverall\"] == 1].value_counts()\n",
    "not_accepted_cmp = df[df[\"AcceptedCmpOverall\"] == 0].value_counts()\n",
    "\n",
    "print(\"Accepted Campaign 1: \",accepted_cmp1.count())\n",
    "print(\"Accepted Campaign 2: \",accepted_cmp2.count())\n",
    "print(\"Accepted Campaign 3: \",accepted_cmp3.count())\n",
    "print(\"Accepted Campaign 4: \",accepted_cmp4.count())\n",
    "print(\"Accepted Campaign 5: \",accepted_cmp5.count())\n",
    "\n",
    "print(\"Accepted Overall Campaign: \",accepted_overall_cmp.count())\n",
    "print(\"Not Accepted Campaign: \",not_accepted_cmp.count())\n",
    "\n"
   ]
  }
 ],
 "metadata": {
  "kernelspec": {
   "display_name": "venv",
   "language": "python",
   "name": "python3"
  },
  "language_info": {
   "codemirror_mode": {
    "name": "ipython",
    "version": 3
   },
   "file_extension": ".py",
   "mimetype": "text/x-python",
   "name": "python",
   "nbconvert_exporter": "python",
   "pygments_lexer": "ipython3",
   "version": "3.12.1"
  }
 },
 "nbformat": 4,
 "nbformat_minor": 5
}
